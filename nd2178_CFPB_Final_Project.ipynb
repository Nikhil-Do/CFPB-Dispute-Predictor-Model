{
 "cells": [
  {
   "cell_type": "code",
   "execution_count": 1,
   "metadata": {
    "id": "HoELmFHFe2e_"
   },
   "outputs": [
    {
     "ename": "ModuleNotFoundError",
     "evalue": "No module named 'imblearn'",
     "output_type": "error",
     "traceback": [
      "\u001b[0;31m---------------------------------------------------------------------------\u001b[0m",
      "\u001b[0;31mModuleNotFoundError\u001b[0m                       Traceback (most recent call last)",
      "\u001b[0;32m<ipython-input-1-4ade11d03133>\u001b[0m in \u001b[0;36m<module>\u001b[0;34m\u001b[0m\n\u001b[1;32m      4\u001b[0m \u001b[0;32mimport\u001b[0m \u001b[0mmatplotlib\u001b[0m\u001b[0;34m.\u001b[0m\u001b[0mpyplot\u001b[0m \u001b[0;32mas\u001b[0m \u001b[0mplt\u001b[0m\u001b[0;34m\u001b[0m\u001b[0;34m\u001b[0m\u001b[0m\n\u001b[1;32m      5\u001b[0m \u001b[0;32mimport\u001b[0m \u001b[0mseaborn\u001b[0m \u001b[0;32mas\u001b[0m \u001b[0msns\u001b[0m\u001b[0;34m\u001b[0m\u001b[0;34m\u001b[0m\u001b[0m\n\u001b[0;32m----> 6\u001b[0;31m \u001b[0;32mfrom\u001b[0m \u001b[0mimblearn\u001b[0m\u001b[0;34m.\u001b[0m\u001b[0mover_sampling\u001b[0m \u001b[0;32mimport\u001b[0m \u001b[0mSMOTE\u001b[0m\u001b[0;34m\u001b[0m\u001b[0;34m\u001b[0m\u001b[0m\n\u001b[0m\u001b[1;32m      7\u001b[0m \u001b[0;32mfrom\u001b[0m \u001b[0msklearn\u001b[0m\u001b[0;34m.\u001b[0m\u001b[0mmetrics\u001b[0m \u001b[0;32mimport\u001b[0m \u001b[0mconfusion_matrix\u001b[0m\u001b[0;34m,\u001b[0m \u001b[0maccuracy_score\u001b[0m\u001b[0;34m,\u001b[0m \u001b[0mclassification_report\u001b[0m\u001b[0;34m,\u001b[0m \u001b[0mplot_confusion_matrix\u001b[0m\u001b[0;34m,\u001b[0m \u001b[0mConfusionMatrixDisplay\u001b[0m\u001b[0;34m\u001b[0m\u001b[0;34m\u001b[0m\u001b[0m\n",
      "\u001b[0;31mModuleNotFoundError\u001b[0m: No module named 'imblearn'"
     ]
    }
   ],
   "source": [
    "import numpy as np\n",
    "import pandas as pd\n",
    "import statsmodels.api as sm\n",
    "import matplotlib.pyplot as plt\n",
    "import seaborn as sns\n",
    "from imblearn.over_sampling import SMOTE\n",
    "from sklearn.metrics import confusion_matrix, accuracy_score, classification_report, plot_confusion_matrix, ConfusionMatrixDisplay"
   ]
  },
  {
   "cell_type": "code",
   "execution_count": null,
   "metadata": {
    "id": "t_Ywed13e6Gy"
   },
   "outputs": [],
   "source": [
    "complaints = pd.read_csv(\"complaints_25Nov21.csv\")"
   ]
  },
  {
   "cell_type": "code",
   "execution_count": 2,
   "metadata": {
    "colab": {
     "base_uri": "https://localhost:8080/",
     "height": 1000
    },
    "id": "rD6eEMuXfG-M",
    "outputId": "267da496-48c0-4ee1-b2f5-e6fdfccc5d63"
   },
   "outputs": [
    {
     "ename": "NameError",
     "evalue": "name 'complaints' is not defined",
     "output_type": "error",
     "traceback": [
      "\u001b[0;31m---------------------------------------------------------------------------\u001b[0m",
      "\u001b[0;31mNameError\u001b[0m                                 Traceback (most recent call last)",
      "\u001b[0;32m<ipython-input-2-4f0e1d23c3af>\u001b[0m in \u001b[0;36m<module>\u001b[0;34m\u001b[0m\n\u001b[0;32m----> 1\u001b[0;31m \u001b[0mcomplaints\u001b[0m\u001b[0;34m.\u001b[0m\u001b[0mhead\u001b[0m\u001b[0;34m(\u001b[0m\u001b[0;36m100\u001b[0m\u001b[0;34m)\u001b[0m\u001b[0;34m\u001b[0m\u001b[0;34m\u001b[0m\u001b[0m\n\u001b[0m",
      "\u001b[0;31mNameError\u001b[0m: name 'complaints' is not defined"
     ]
    }
   ],
   "source": [
    "complaints.head(100)"
   ]
  },
  {
   "cell_type": "code",
   "execution_count": 212,
   "metadata": {
    "colab": {
     "base_uri": "https://localhost:8080/"
    },
    "id": "-SOLjtjmfhOe",
    "outputId": "fcea5d25-1489-4721-cf99-ff9c23633a6c"
   },
   "outputs": [
    {
     "data": {
      "text/plain": [
       "Index(['Date received', 'Product', 'Sub-product', 'Issue', 'Sub-issue',\n",
       "       'Consumer complaint narrative', 'Company public response', 'Company',\n",
       "       'State', 'ZIP code', 'Tags', 'Consumer consent provided?',\n",
       "       'Submitted via', 'Date sent to company', 'Company response to consumer',\n",
       "       'Timely response?', 'Consumer disputed?', 'Complaint ID'],\n",
       "      dtype='object')"
      ]
     },
     "execution_count": 212,
     "metadata": {},
     "output_type": "execute_result"
    }
   ],
   "source": [
    "complaints.columns"
   ]
  },
  {
   "cell_type": "code",
   "execution_count": 213,
   "metadata": {
    "colab": {
     "base_uri": "https://localhost:8080/"
    },
    "id": "ER0eui20pUMG",
    "outputId": "d54239c6-8afa-4eea-c655-5931c7d14ccf"
   },
   "outputs": [
    {
     "data": {
      "text/plain": [
       "BANK OF AMERICA, NATIONAL ASSOCIATION    65440\n",
       "WELLS FARGO & COMPANY                    53111\n",
       "JPMORGAN CHASE & CO.                     42170\n",
       "CITIBANK, N.A.                           34341\n",
       "U.S. BANCORP                             12198\n",
       "Name: Company, dtype: int64"
      ]
     },
     "execution_count": 213,
     "metadata": {},
     "output_type": "execute_result"
    }
   ],
   "source": [
    "complaints.Company.value_counts().sort_values(ascending=False).head(50)"
   ]
  },
  {
   "cell_type": "code",
   "execution_count": 214,
   "metadata": {
    "colab": {
     "base_uri": "https://localhost:8080/"
    },
    "id": "BIQmAb26praH",
    "outputId": "2acba187-e3f0-4ecb-802b-8cd28b29f6ff"
   },
   "outputs": [
    {
     "data": {
      "text/plain": [
       "No     162357\n",
       "Yes     44903\n",
       "Name: Consumer disputed?, dtype: int64"
      ]
     },
     "execution_count": 214,
     "metadata": {},
     "output_type": "execute_result"
    }
   ],
   "source": [
    "complaints['Consumer disputed?'].value_counts()"
   ]
  },
  {
   "cell_type": "code",
   "execution_count": 215,
   "metadata": {
    "colab": {
     "base_uri": "https://localhost:8080/"
    },
    "id": "XXbl1YaKqXAF",
    "outputId": "a0e09973-c639-4313-f632-bbe7ab17bc03"
   },
   "outputs": [
    {
     "data": {
      "text/plain": [
       "207260"
      ]
     },
     "execution_count": 215,
     "metadata": {},
     "output_type": "execute_result"
    }
   ],
   "source": [
    "complaints['Consumer disputed?'].value_counts().sum()"
   ]
  },
  {
   "cell_type": "code",
   "execution_count": 216,
   "metadata": {
    "colab": {
     "base_uri": "https://localhost:8080/"
    },
    "id": "gaXtGiWkqctp",
    "outputId": "f48f96c5-330f-4836-8d1d-245e08fc59ea"
   },
   "outputs": [
    {
     "data": {
      "text/plain": [
       "0"
      ]
     },
     "execution_count": 216,
     "metadata": {},
     "output_type": "execute_result"
    }
   ],
   "source": [
    "complaints['Consumer disputed?'].isna().sum()"
   ]
  },
  {
   "cell_type": "code",
   "execution_count": 217,
   "metadata": {
    "id": "z_tCwdxoqhiw"
   },
   "outputs": [],
   "source": [
    "complaints['Consumer disputed?'].fillna('No', inplace=True)\n",
    "complaints['Consumer disputed?'] = complaints['Consumer disputed?'].astype('category')"
   ]
  },
  {
   "cell_type": "code",
   "execution_count": 218,
   "metadata": {
    "colab": {
     "base_uri": "https://localhost:8080/"
    },
    "id": "AXHe5kyWqlDT",
    "outputId": "b699f58f-f395-4e9f-e306-dc9b3ee0fd65"
   },
   "outputs": [
    {
     "data": {
      "text/plain": [
       "No     162357\n",
       "Yes     44903\n",
       "Name: Consumer disputed?, dtype: int64"
      ]
     },
     "execution_count": 218,
     "metadata": {},
     "output_type": "execute_result"
    }
   ],
   "source": [
    "complaints['Consumer disputed?'].value_counts()"
   ]
  },
  {
   "cell_type": "code",
   "execution_count": 219,
   "metadata": {
    "colab": {
     "base_uri": "https://localhost:8080/",
     "height": 288
    },
    "id": "LfzbvVpIezke",
    "outputId": "0982b04f-2262-4ff5-8a0f-e47514aecc2e"
   },
   "outputs": [
    {
     "data": {
      "text/plain": [
       "<matplotlib.axes._subplots.AxesSubplot at 0x7fc744ec5550>"
      ]
     },
     "execution_count": 219,
     "metadata": {},
     "output_type": "execute_result"
    },
    {
     "data": {
      "image/png": "[encoded data removed]",
      "text/plain": [
       "<Figure size 432x288 with 1 Axes>"
      ]
     },
     "metadata": {
      "needs_background": "light"
     },
     "output_type": "display_data"
    }
   ],
   "source": [
    "complaints['Consumer disputed?'].value_counts().plot(kind='bar')"
   ]
  },
  {
   "cell_type": "code",
   "execution_count": 220,
   "metadata": {
    "colab": {
     "base_uri": "https://localhost:8080/",
     "height": 393
    },
    "id": "aEAOtI03aLgX",
    "outputId": "a89779e0-1ae2-4205-d594-58780b71b942"
   },
   "outputs": [
    {
     "data": {
      "text/plain": [
       "<matplotlib.axes._subplots.AxesSubplot at 0x7fc744e392d0>"
      ]
     },
     "execution_count": 220,
     "metadata": {},
     "output_type": "execute_result"
    },
    {
     "data": {
      "image/png": "[encoded data removed]",
      "text/plain": [
       "<Figure size 432x288 with 1 Axes>"
      ]
     },
     "metadata": {
      "needs_background": "light"
     },
     "output_type": "display_data"
    }
   ],
   "source": [
    "complaints['Product'].value_counts().plot(kind='bar')"
   ]
  },
  {
   "cell_type": "code",
   "execution_count": 221,
   "metadata": {
    "colab": {
     "base_uri": "https://localhost:8080/"
    },
    "id": "5KBjvFMSh1A7",
    "outputId": "1b421562-d6fc-4a9d-a616-086e4666c712"
   },
   "outputs": [
    {
     "data": {
      "text/plain": [
       "Mortgage                   101680\n",
       "Bank account or service     44594\n",
       "Credit card                 42191\n",
       "Debt collection              7861\n",
       "Consumer Loan                5508\n",
       "Student loan                 2866\n",
       "Money transfers               869\n",
       "Credit reporting              741\n",
       "Prepaid card                  635\n",
       "Other financial service       232\n",
       "Payday loan                    83\n",
       "Name: Product, dtype: int64"
      ]
     },
     "execution_count": 221,
     "metadata": {},
     "output_type": "execute_result"
    }
   ],
   "source": [
    "complaints['Product'].value_counts()"
   ]
  },
  {
   "cell_type": "code",
   "execution_count": 222,
   "metadata": {
    "colab": {
     "base_uri": "https://localhost:8080/",
     "height": 432
    },
    "id": "G_aIMCASbCPw",
    "outputId": "87ecf7f6-6953-4dad-9c5a-700b1c75cc52"
   },
   "outputs": [
    {
     "data": {
      "text/plain": [
       "<matplotlib.axes._subplots.AxesSubplot at 0x7fc744e9c790>"
      ]
     },
     "execution_count": 222,
     "metadata": {},
     "output_type": "execute_result"
    },
    {
     "data": {
      "image/png": "[encoded data removed]",
      "text/plain": [
       "<Figure size 432x288 with 1 Axes>"
      ]
     },
     "metadata": {
      "needs_background": "light"
     },
     "output_type": "display_data"
    }
   ],
   "source": [
    "complaints['Company response to consumer'].value_counts().plot(kind='bar')"
   ]
  },
  {
   "cell_type": "code",
   "execution_count": 223,
   "metadata": {
    "colab": {
     "base_uri": "https://localhost:8080/",
     "height": 492
    },
    "id": "wQswM1M_bSNX",
    "outputId": "5759bdb7-a832-4d2d-925a-cc50f6339bb3"
   },
   "outputs": [
    {
     "data": {
      "text/plain": [
       "<matplotlib.axes._subplots.AxesSubplot at 0x7fc744d48110>"
      ]
     },
     "execution_count": 223,
     "metadata": {},
     "output_type": "execute_result"
    },
    {
     "data": {
      "image/png": "[encoded data removed]",
      "text/plain": [
       "<Figure size 432x288 with 1 Axes>"
      ]
     },
     "metadata": {
      "needs_background": "light"
     },
     "output_type": "display_data"
    }
   ],
   "source": [
    "complaints['Company'].value_counts().plot(kind='bar')"
   ]
  },
  {
   "cell_type": "code",
   "execution_count": 224,
   "metadata": {
    "colab": {
     "base_uri": "https://localhost:8080/"
    },
    "id": "iN6J2Cotqpsz",
    "outputId": "fe51b855-29f3-42ec-8d55-c81a1e0c1d4d"
   },
   "outputs": [
    {
     "data": {
      "text/plain": [
       "No     0.783349\n",
       "Yes    0.216651\n",
       "Name: Consumer disputed?, dtype: float64"
      ]
     },
     "execution_count": 224,
     "metadata": {},
     "output_type": "execute_result"
    }
   ],
   "source": [
    "#percentage\n",
    "complaints['Consumer disputed?'].value_counts() / (complaints['Consumer disputed?'].value_counts().sum())"
   ]
  },
  {
   "cell_type": "code",
   "execution_count": 225,
   "metadata": {
    "id": "UvMzlWX-qvu2"
   },
   "outputs": [],
   "source": [
    "X = complaints[[ 'Product', 'Sub-product', 'Issue', 'Sub-issue',\n",
    "        'Company public response', 'Company',\n",
    "       'State',  'Tags', 'Consumer consent provided?',\n",
    "       'Submitted via',  'Company response to consumer',\n",
    "       'Timely response?']]"
   ]
  },
  {
   "cell_type": "code",
   "execution_count": 226,
   "metadata": {
    "colab": {
     "base_uri": "https://localhost:8080/"
    },
    "id": "15Il5QfkrBaf",
    "outputId": "4c61154c-6591-4587-b4ad-54da02aeca4a"
   },
   "outputs": [
    {
     "name": "stdout",
     "output_type": "stream",
     "text": [
      "207260\n",
      "435\n"
     ]
    }
   ],
   "source": [
    "#Checking for missing values in the edited dataset\n",
    "print(len(X))\n",
    "print(len(X.dropna()))"
   ]
  },
  {
   "cell_type": "code",
   "execution_count": 227,
   "metadata": {
    "id": "cAo7pn-5rG_F"
   },
   "outputs": [],
   "source": [
    "X = pd.get_dummies(X)"
   ]
  },
  {
   "cell_type": "code",
   "execution_count": 228,
   "metadata": {
    "id": "fXapDRkrrWJk"
   },
   "outputs": [],
   "source": [
    "y = complaints['Consumer disputed?']"
   ]
  },
  {
   "cell_type": "code",
   "execution_count": 229,
   "metadata": {
    "colab": {
     "base_uri": "https://localhost:8080/"
    },
    "id": "bUEnunBRrY5J",
    "outputId": "e1282890-8b0d-4bc1-811f-e900827ccf22"
   },
   "outputs": [
    {
     "name": "stdout",
     "output_type": "stream",
     "text": [
      "['No' 'Yes']\n",
      "['No' 'Yes']\n",
      "\n",
      "Label mapping is: {0: 'No', 1: 'Yes'}\n"
     ]
    }
   ],
   "source": [
    "from sklearn import preprocessing\n",
    "le = preprocessing.LabelEncoder()\n",
    "y = le.fit_transform(complaints['Consumer disputed?'])\n",
    "print(le.classes_)\n",
    "print(le.inverse_transform(list(set(y))))\n",
    "labels = dict(zip(list(set(y)), le.inverse_transform(list(set(y)))))\n",
    "print(\"\\nLabel mapping is:\", labels)"
   ]
  },
  {
   "cell_type": "code",
   "execution_count": 230,
   "metadata": {
    "id": "qFnRLItIrerg"
   },
   "outputs": [],
   "source": [
    "from sklearn.model_selection import train_test_split\n",
    "X_train, X_test, y_train, y_test = train_test_split(X, y, test_size=0.2)"
   ]
  },
  {
   "cell_type": "code",
   "execution_count": 231,
   "metadata": {
    "colab": {
     "base_uri": "https://localhost:8080/"
    },
    "id": "oZVFX1merh6X",
    "outputId": "ee4f0a73-3125-4c70-b4e7-f25e6455de1e"
   },
   "outputs": [
    {
     "name": "stdout",
     "output_type": "stream",
     "text": [
      "(165808, 305)\n",
      "(165808,)\n",
      "(41452, 305)\n",
      "(41452,)\n"
     ]
    }
   ],
   "source": [
    "print(X_train.shape)\n",
    "print(y_train.shape)\n",
    "print(X_test.shape)\n",
    "print(y_test.shape)"
   ]
  },
  {
   "cell_type": "code",
   "execution_count": 232,
   "metadata": {
    "id": "eaPY0EKirlK8"
   },
   "outputs": [],
   "source": [
    "from imblearn.under_sampling import RandomUnderSampler\n",
    "undersampler = RandomUnderSampler()\n",
    "X_train, y_train = undersampler.fit_resample(X_train, y_train)"
   ]
  },
  {
   "cell_type": "code",
   "execution_count": 233,
   "metadata": {
    "colab": {
     "base_uri": "https://localhost:8080/"
    },
    "id": "Xyqe76jism_G",
    "outputId": "20ea7c13-18d4-496e-cf16-2a12e11308fc"
   },
   "outputs": [
    {
     "name": "stdout",
     "output_type": "stream",
     "text": [
      "(207260, 305)\n",
      "(71818, 305)\n",
      "(41452, 305)\n"
     ]
    }
   ],
   "source": [
    "print(X.shape)\n",
    "print(X_train.shape)\n",
    "print(X_test.shape)"
   ]
  },
  {
   "cell_type": "markdown",
   "metadata": {
    "id": "EHG_TRaKszqE"
   },
   "source": [
    "Fitting the model using XGBoost\n"
   ]
  },
  {
   "cell_type": "code",
   "execution_count": 234,
   "metadata": {
    "colab": {
     "base_uri": "https://localhost:8080/"
    },
    "id": "vp6CkAnAsv1S",
    "outputId": "ac60af8d-f667-4a99-d469-83188b58eb7d"
   },
   "outputs": [
    {
     "data": {
      "text/plain": [
       "XGBClassifier(use_label_encoder=False)"
      ]
     },
     "execution_count": 234,
     "metadata": {},
     "output_type": "execute_result"
    }
   ],
   "source": [
    "from xgboost import XGBClassifier\n",
    "\n",
    "model_xgb = XGBClassifier(use_label_encoder=False, objective= 'binary:logistic')\n",
    "model_xgb.fit(X_train, y_train)"
   ]
  },
  {
   "cell_type": "code",
   "execution_count": 235,
   "metadata": {
    "id": "gPpvDloxtCh3"
   },
   "outputs": [],
   "source": [
    "pred = model_xgb.predict(X_test)"
   ]
  },
  {
   "cell_type": "code",
   "execution_count": 236,
   "metadata": {
    "colab": {
     "base_uri": "https://localhost:8080/",
     "height": 765
    },
    "id": "9jNXExjMtdkN",
    "outputId": "f7c4b7b2-4c49-4511-b3b3-5f0c4d1535ea"
   },
   "outputs": [
    {
     "name": "stdout",
     "output_type": "stream",
     "text": [
      "              precision    recall  f1-score   support\n",
      "\n",
      "           0       0.84      0.55      0.66     32458\n",
      "           1       0.27      0.61      0.38      8994\n",
      "\n",
      "    accuracy                           0.56     41452\n",
      "   macro avg       0.55      0.58      0.52     41452\n",
      "weighted avg       0.71      0.56      0.60     41452\n",
      "\n"
     ]
    },
    {
     "name": "stderr",
     "output_type": "stream",
     "text": [
      "/usr/local/lib/python3.7/dist-packages/sklearn/utils/deprecation.py:87: FutureWarning: Function plot_confusion_matrix is deprecated; Function `plot_confusion_matrix` is deprecated in 1.0 and will be removed in 1.2. Use one of the class methods: ConfusionMatrixDisplay.from_predictions or ConfusionMatrixDisplay.from_estimator.\n",
      "  warnings.warn(msg, category=FutureWarning)\n"
     ]
    },
    {
     "data": {
      "text/plain": [
       "<sklearn.metrics._plot.confusion_matrix.ConfusionMatrixDisplay at 0x7fc744cad090>"
      ]
     },
     "execution_count": 236,
     "metadata": {},
     "output_type": "execute_result"
    },
    {
     "data": {
      "image/png": "[encoded data removed]",
      "text/plain": [
       "<Figure size 432x288 with 2 Axes>"
      ]
     },
     "metadata": {
      "needs_background": "light"
     },
     "output_type": "display_data"
    },
    {
     "data": {
      "image/png": "[encoded data removed]",
      "text/plain": [
       "<Figure size 432x288 with 2 Axes>"
      ]
     },
     "metadata": {
      "needs_background": "light"
     },
     "output_type": "display_data"
    }
   ],
   "source": [
    "print(classification_report(y_true = y_test, y_pred = pred))\n",
    "plot_confusion_matrix(model_xgb, X = X_test, y_true = y_test, cmap='Greys');\n",
    "\n",
    "cm = confusion_matrix(y_test, pred)\n",
    "ConfusionMatrixDisplay(confusion_matrix=cm).plot()"
   ]
  },
  {
   "cell_type": "code",
   "execution_count": 237,
   "metadata": {
    "id": "-B9NCWY7thty"
   },
   "outputs": [],
   "source": [
    "threshold = 0.50"
   ]
  },
  {
   "cell_type": "code",
   "execution_count": 270,
   "metadata": {
    "colab": {
     "base_uri": "https://localhost:8080/"
    },
    "id": "Ch9xBVC1t7iM",
    "outputId": "9c5ad1e2-47ae-49ef-e5c9-846ed0e71bbc"
   },
   "outputs": [
    {
     "name": "stdout",
     "output_type": "stream",
     "text": [
      "Confusion Matrix : \n",
      " [[   51 32407]\n",
      " [    1  8993]]\n",
      "Test accuracy =  0.2181800636881212\n"
     ]
    }
   ],
   "source": [
    "pred_prob = model_xgb.predict_proba(X_test)\n",
    "\n",
    "pred_prob = pred_prob[:,1]\n",
    "\n",
    "pred = (pred_prob>threshold).astype(int)\n",
    "\n",
    "cm = confusion_matrix(y_test, pred)\n",
    "print (\"Confusion Matrix : \\n\", cm)\n",
    " \n",
    "print('Test accuracy = ', accuracy_score(y_test, pred))"
   ]
  },
  {
   "cell_type": "code",
   "execution_count": 239,
   "metadata": {
    "colab": {
     "base_uri": "https://localhost:8080/"
    },
    "id": "_xNO34IJuD1L",
    "outputId": "8a2050b3-466a-4df1-fe57-8154ab6163b0"
   },
   "outputs": [
    {
     "name": "stdout",
     "output_type": "stream",
     "text": [
      "              precision    recall  f1-score   support\n",
      "\n",
      "           0       0.84      0.55      0.66     32458\n",
      "           1       0.27      0.61      0.38      8994\n",
      "\n",
      "    accuracy                           0.56     41452\n",
      "   macro avg       0.55      0.58      0.52     41452\n",
      "weighted avg       0.71      0.56      0.60     41452\n",
      "\n"
     ]
    }
   ],
   "source": [
    "print(classification_report(y_true = y_test, y_pred = pred))"
   ]
  },
  {
   "cell_type": "code",
   "execution_count": 240,
   "metadata": {
    "colab": {
     "base_uri": "https://localhost:8080/"
    },
    "id": "iqAej_eKuHAr",
    "outputId": "a6db8f4c-a72d-42d1-99d2-849016ed82eb"
   },
   "outputs": [
    {
     "data": {
      "text/plain": [
       "array([0.56518596, 0.5631369 , 0.57147527, ..., 0.4475068 , 0.4983394 ,\n",
       "       0.27067378], dtype=float32)"
      ]
     },
     "execution_count": 240,
     "metadata": {},
     "output_type": "execute_result"
    }
   ],
   "source": [
    "pred_prob"
   ]
  },
  {
   "cell_type": "markdown",
   "metadata": {
    "id": "cZ9HoOGLuej5"
   },
   "source": [
    "AUC and ROC Calculation"
   ]
  },
  {
   "cell_type": "code",
   "execution_count": 241,
   "metadata": {
    "colab": {
     "base_uri": "https://localhost:8080/"
    },
    "id": "ORWKAadfug6B",
    "outputId": "1b8fc75b-512a-4226-8833-ebe00b45935c"
   },
   "outputs": [
    {
     "data": {
      "text/plain": [
       "0.6139613971360234"
      ]
     },
     "execution_count": 241,
     "metadata": {},
     "output_type": "execute_result"
    }
   ],
   "source": [
    "from sklearn import metrics\n",
    "metrics.roc_auc_score(y_test, pred_prob)"
   ]
  },
  {
   "cell_type": "code",
   "execution_count": 242,
   "metadata": {
    "colab": {
     "base_uri": "https://localhost:8080/",
     "height": 513
    },
    "id": "QMtbVDuQuj_x",
    "outputId": "be99515b-7755-43cf-aa9f-5cba53aab64e"
   },
   "outputs": [
    {
     "data": {
      "image/png": "[encoded data removed]",
      "text/plain": [
       "<Figure size 648x576 with 1 Axes>"
      ]
     },
     "metadata": {
      "needs_background": "light"
     },
     "output_type": "display_data"
    }
   ],
   "source": [
    "fpr, tpr, thresholds = metrics.roc_curve(y_test, pred_prob)\n",
    "roc_auc = metrics.auc(fpr, tpr)\n",
    "plt.figure(figsize = (9,8))\n",
    "plt.title('Receiver Operating Characteristic')\n",
    "plt.plot(fpr, tpr, 'b', label = 'AUC = %0.2f' % roc_auc)\n",
    "plt.legend(loc = 'lower right')\n",
    "plt.plot([0, 1], [0, 1],'r--')\n",
    "plt.xlim([0, 1])\n",
    "plt.ylim([0, 1])\n",
    "plt.ylabel('True Positive Rate')\n",
    "plt.xlabel('False Positive Rate')\n",
    "plt.show()"
   ]
  },
  {
   "cell_type": "code",
   "execution_count": 243,
   "metadata": {
    "colab": {
     "base_uri": "https://localhost:8080/",
     "height": 419
    },
    "id": "_l77ELStumvE",
    "outputId": "ea61b14e-c33a-4c1e-b145-a2caa97ed530"
   },
   "outputs": [
    {
     "data": {
      "text/html": [
       "<div>\n",
       "<style scoped>\n",
       "    .dataframe tbody tr th:only-of-type {\n",
       "        vertical-align: middle;\n",
       "    }\n",
       "\n",
       "    .dataframe tbody tr th {\n",
       "        vertical-align: top;\n",
       "    }\n",
       "\n",
       "    .dataframe thead th {\n",
       "        text-align: right;\n",
       "    }\n",
       "</style>\n",
       "<table border=\"1\" class=\"dataframe\">\n",
       "  <thead>\n",
       "    <tr style=\"text-align: right;\">\n",
       "      <th></th>\n",
       "      <th>TPR</th>\n",
       "      <th>FPR</th>\n",
       "      <th>Threshold</th>\n",
       "    </tr>\n",
       "  </thead>\n",
       "  <tbody>\n",
       "    <tr>\n",
       "      <th>0</th>\n",
       "      <td>1.000000</td>\n",
       "      <td>1.000000</td>\n",
       "      <td>0.092425</td>\n",
       "    </tr>\n",
       "    <tr>\n",
       "      <th>1</th>\n",
       "      <td>1.000000</td>\n",
       "      <td>0.999938</td>\n",
       "      <td>0.123244</td>\n",
       "    </tr>\n",
       "    <tr>\n",
       "      <th>2</th>\n",
       "      <td>1.000000</td>\n",
       "      <td>0.999846</td>\n",
       "      <td>0.128234</td>\n",
       "    </tr>\n",
       "    <tr>\n",
       "      <th>3</th>\n",
       "      <td>1.000000</td>\n",
       "      <td>0.999815</td>\n",
       "      <td>0.129374</td>\n",
       "    </tr>\n",
       "    <tr>\n",
       "      <th>4</th>\n",
       "      <td>1.000000</td>\n",
       "      <td>0.999754</td>\n",
       "      <td>0.134213</td>\n",
       "    </tr>\n",
       "    <tr>\n",
       "      <th>...</th>\n",
       "      <td>...</td>\n",
       "      <td>...</td>\n",
       "      <td>...</td>\n",
       "    </tr>\n",
       "    <tr>\n",
       "      <th>5173</th>\n",
       "      <td>0.000778</td>\n",
       "      <td>0.000092</td>\n",
       "      <td>0.695674</td>\n",
       "    </tr>\n",
       "    <tr>\n",
       "      <th>5174</th>\n",
       "      <td>0.000778</td>\n",
       "      <td>0.000062</td>\n",
       "      <td>0.702127</td>\n",
       "    </tr>\n",
       "    <tr>\n",
       "      <th>5175</th>\n",
       "      <td>0.000111</td>\n",
       "      <td>0.000062</td>\n",
       "      <td>0.704008</td>\n",
       "    </tr>\n",
       "    <tr>\n",
       "      <th>5176</th>\n",
       "      <td>0.000111</td>\n",
       "      <td>0.000031</td>\n",
       "      <td>0.709054</td>\n",
       "    </tr>\n",
       "    <tr>\n",
       "      <th>5177</th>\n",
       "      <td>0.000000</td>\n",
       "      <td>0.000000</td>\n",
       "      <td>1.709054</td>\n",
       "    </tr>\n",
       "  </tbody>\n",
       "</table>\n",
       "<p>5178 rows × 3 columns</p>\n",
       "</div>"
      ],
      "text/plain": [
       "           TPR       FPR  Threshold\n",
       "0     1.000000  1.000000   0.092425\n",
       "1     1.000000  0.999938   0.123244\n",
       "2     1.000000  0.999846   0.128234\n",
       "3     1.000000  0.999815   0.129374\n",
       "4     1.000000  0.999754   0.134213\n",
       "...        ...       ...        ...\n",
       "5173  0.000778  0.000092   0.695674\n",
       "5174  0.000778  0.000062   0.702127\n",
       "5175  0.000111  0.000062   0.704008\n",
       "5176  0.000111  0.000031   0.709054\n",
       "5177  0.000000  0.000000   1.709054\n",
       "\n",
       "[5178 rows x 3 columns]"
      ]
     },
     "execution_count": 243,
     "metadata": {},
     "output_type": "execute_result"
    }
   ],
   "source": [
    "pd.DataFrame({'TPR': tpr, 'FPR': fpr, 'Threshold': thresholds}).sort_values(by = ['Threshold']).reset_index(drop=True)"
   ]
  },
  {
   "cell_type": "code",
   "execution_count": 252,
   "metadata": {
    "id": "EdGt-dF8wffw"
   },
   "outputs": [],
   "source": []
  },
  {
   "cell_type": "markdown",
   "metadata": {
    "id": "SEotz34yO-JP"
   },
   "source": [
    "Running the model on XGBoost with different threshold"
   ]
  },
  {
   "cell_type": "code",
   "execution_count": 253,
   "metadata": {
    "id": "i1ALXtEoQNL8"
   },
   "outputs": [],
   "source": [
    "threshold = 0.40"
   ]
  },
  {
   "cell_type": "code",
   "execution_count": 271,
   "metadata": {
    "colab": {
     "base_uri": "https://localhost:8080/"
    },
    "id": "N1JQWXn7QPZq",
    "outputId": "6708136d-d326-4627-f98e-0f56c79deebd"
   },
   "outputs": [
    {
     "name": "stdout",
     "output_type": "stream",
     "text": [
      "Confusion Matrix : \n",
      " [[   51 32407]\n",
      " [    1  8993]]\n",
      "Test accuracy =  0.2181800636881212\n"
     ]
    }
   ],
   "source": [
    "pred_prob = model_xgb.predict_proba(X_test)\n",
    "\n",
    "pred_prob = pred_prob[:,1]\n",
    "\n",
    "pred = (pred_prob>threshold).astype(int)\n",
    "\n",
    "cm = confusion_matrix(y_test, pred)\n",
    "print (\"Confusion Matrix : \\n\", cm)\n",
    " \n",
    "print('Test accuracy = ', accuracy_score(y_test, pred))"
   ]
  },
  {
   "cell_type": "code",
   "execution_count": 255,
   "metadata": {
    "colab": {
     "base_uri": "https://localhost:8080/"
    },
    "id": "hBtubC2zQTkL",
    "outputId": "e9f8fa75-581f-440c-9898-c3d5ff5a2136"
   },
   "outputs": [
    {
     "name": "stdout",
     "output_type": "stream",
     "text": [
      "              precision    recall  f1-score   support\n",
      "\n",
      "           0       0.90      0.18      0.31     32458\n",
      "           1       0.24      0.92      0.38      8994\n",
      "\n",
      "    accuracy                           0.34     41452\n",
      "   macro avg       0.57      0.55      0.34     41452\n",
      "weighted avg       0.75      0.34      0.32     41452\n",
      "\n"
     ]
    }
   ],
   "source": [
    "print(classification_report(y_true = y_test, y_pred = pred))"
   ]
  },
  {
   "cell_type": "code",
   "execution_count": 256,
   "metadata": {
    "colab": {
     "base_uri": "https://localhost:8080/"
    },
    "id": "Ow6L-HJ8Q1h8",
    "outputId": "45594308-7c1c-4426-abd0-51b857953f19"
   },
   "outputs": [
    {
     "data": {
      "text/plain": [
       "array([0.56518596, 0.5631369 , 0.57147527, ..., 0.4475068 , 0.4983394 ,\n",
       "       0.27067378], dtype=float32)"
      ]
     },
     "execution_count": 256,
     "metadata": {},
     "output_type": "execute_result"
    }
   ],
   "source": [
    "pred_prob"
   ]
  },
  {
   "cell_type": "code",
   "execution_count": 256,
   "metadata": {
    "id": "0KjAqnUVQ8P_"
   },
   "outputs": [],
   "source": []
  },
  {
   "cell_type": "markdown",
   "metadata": {
    "id": "BVxDpT3HWoTT"
   },
   "source": [
    "AUC and ROC Calculation"
   ]
  },
  {
   "cell_type": "code",
   "execution_count": 257,
   "metadata": {
    "colab": {
     "base_uri": "https://localhost:8080/"
    },
    "id": "8T-pnSeuWrf7",
    "outputId": "c98e46c7-1a72-4cbc-8dc5-0c407990da8c"
   },
   "outputs": [
    {
     "data": {
      "text/plain": [
       "0.6139613971360234"
      ]
     },
     "execution_count": 257,
     "metadata": {},
     "output_type": "execute_result"
    }
   ],
   "source": [
    "# AUC calculation\n",
    "from sklearn import metrics\n",
    "metrics.roc_auc_score(y_test, pred_prob)"
   ]
  },
  {
   "cell_type": "code",
   "execution_count": 258,
   "metadata": {
    "colab": {
     "base_uri": "https://localhost:8080/",
     "height": 513
    },
    "id": "C9exuZdAWtZ1",
    "outputId": "d2cb5a62-773a-42e2-bb6d-a27d98825096"
   },
   "outputs": [
    {
     "data": {
      "image/png": "[encoded data removed]",
      "text/plain": [
       "<Figure size 648x576 with 1 Axes>"
      ]
     },
     "metadata": {
      "needs_background": "light"
     },
     "output_type": "display_data"
    }
   ],
   "source": [
    "fpr, tpr, thresholds = metrics.roc_curve(y_test, pred_prob)\n",
    "roc_auc = metrics.auc(fpr, tpr)\n",
    "plt.figure(figsize = (9,8))\n",
    "plt.title('Receiver Operating Characteristic')\n",
    "plt.plot(fpr, tpr, 'b', label = 'AUC = %0.2f' % roc_auc)\n",
    "plt.legend(loc = 'lower right')\n",
    "plt.plot([0, 1], [0, 1],'r--')\n",
    "plt.xlim([0, 1])\n",
    "plt.ylim([0, 1])\n",
    "plt.ylabel('True Positive Rate')\n",
    "plt.xlabel('False Positive Rate')\n",
    "plt.show()"
   ]
  },
  {
   "cell_type": "markdown",
   "metadata": {
    "id": "XCgH3pTFQ-z3"
   },
   "source": [
    "Fitting the model on XGBoost again"
   ]
  },
  {
   "cell_type": "code",
   "execution_count": 259,
   "metadata": {
    "id": "hUtdVbWMRBDY"
   },
   "outputs": [],
   "source": [
    "threshold = 0.30"
   ]
  },
  {
   "cell_type": "code",
   "execution_count": 260,
   "metadata": {
    "colab": {
     "base_uri": "https://localhost:8080/"
    },
    "id": "Ak4xYm3RRGP1",
    "outputId": "dc037b53-4f30-4aa3-bb30-d01ca3b211b7"
   },
   "outputs": [
    {
     "name": "stdout",
     "output_type": "stream",
     "text": [
      "Confusion Matrix : \n",
      " [[ 2029 30429]\n",
      " [  184  8810]]\n",
      "Test accuracy =  0.2614831612467432\n"
     ]
    }
   ],
   "source": [
    "pred_prob = model_xgb.predict_proba(X_test)\n",
    "\n",
    "pred_prob = pred_prob[:,1]\n",
    "\n",
    "pred = (pred_prob>threshold).astype(int)\n",
    "\n",
    "cm = confusion_matrix(y_test, pred)\n",
    "print (\"Confusion Matrix : \\n\", cm)\n",
    " \n",
    "print('Test accuracy = ', accuracy_score(y_test, pred))"
   ]
  },
  {
   "cell_type": "code",
   "execution_count": 261,
   "metadata": {
    "colab": {
     "base_uri": "https://localhost:8080/"
    },
    "id": "uM9mef4BRKt1",
    "outputId": "6036b5dd-0a68-47f4-91a7-0577d191cf6a"
   },
   "outputs": [
    {
     "name": "stdout",
     "output_type": "stream",
     "text": [
      "              precision    recall  f1-score   support\n",
      "\n",
      "           0       0.92      0.06      0.12     32458\n",
      "           1       0.22      0.98      0.37      8994\n",
      "\n",
      "    accuracy                           0.26     41452\n",
      "   macro avg       0.57      0.52      0.24     41452\n",
      "weighted avg       0.77      0.26      0.17     41452\n",
      "\n"
     ]
    }
   ],
   "source": [
    "print(classification_report(y_true = y_test, y_pred = pred))"
   ]
  },
  {
   "cell_type": "markdown",
   "metadata": {
    "id": "VmiHT9sTWzhG"
   },
   "source": [
    "AUC and ROC Calculation"
   ]
  },
  {
   "cell_type": "code",
   "execution_count": 262,
   "metadata": {
    "colab": {
     "base_uri": "https://localhost:8080/"
    },
    "id": "eqjwy68jW1kl",
    "outputId": "d3da1488-1b1c-486a-8056-9cb8abf0ea6f"
   },
   "outputs": [
    {
     "data": {
      "text/plain": [
       "0.6139613971360234"
      ]
     },
     "execution_count": 262,
     "metadata": {},
     "output_type": "execute_result"
    }
   ],
   "source": [
    "# AUC calculation\n",
    "from sklearn import metrics\n",
    "metrics.roc_auc_score(y_test, pred_prob)"
   ]
  },
  {
   "cell_type": "code",
   "execution_count": 263,
   "metadata": {
    "colab": {
     "base_uri": "https://localhost:8080/",
     "height": 513
    },
    "id": "3HTKqMjAW4P9",
    "outputId": "c066ce99-68fe-4271-97ca-ed1020fb20cf"
   },
   "outputs": [
    {
     "data": {
      "image/png": "[encoded data removed]",
      "text/plain": [
       "<Figure size 648x576 with 1 Axes>"
      ]
     },
     "metadata": {
      "needs_background": "light"
     },
     "output_type": "display_data"
    }
   ],
   "source": [
    "fpr, tpr, thresholds = metrics.roc_curve(y_test, pred_prob)\n",
    "roc_auc = metrics.auc(fpr, tpr)\n",
    "plt.figure(figsize = (9,8))\n",
    "plt.title('Receiver Operating Characteristic')\n",
    "plt.plot(fpr, tpr, 'b', label = 'AUC = %0.2f' % roc_auc)\n",
    "plt.legend(loc = 'lower right')\n",
    "plt.plot([0, 1], [0, 1],'r--')\n",
    "plt.xlim([0, 1])\n",
    "plt.ylim([0, 1])\n",
    "plt.ylabel('True Positive Rate')\n",
    "plt.xlabel('False Positive Rate')\n",
    "plt.show()"
   ]
  },
  {
   "cell_type": "code",
   "execution_count": 264,
   "metadata": {
    "id": "XaefJOYRW7U7"
   },
   "outputs": [],
   "source": [
    "threshold = 0.2"
   ]
  },
  {
   "cell_type": "code",
   "execution_count": 265,
   "metadata": {
    "colab": {
     "base_uri": "https://localhost:8080/"
    },
    "id": "HvU_IaiYcUvW",
    "outputId": "45ddcfb1-2388-4acd-f45d-4cb5fde122d7"
   },
   "outputs": [
    {
     "name": "stdout",
     "output_type": "stream",
     "text": [
      "Confusion Matrix : \n",
      " [[   51 32407]\n",
      " [    1  8993]]\n",
      "Test accuracy =  0.2181800636881212\n"
     ]
    }
   ],
   "source": [
    "pred_prob = model_xgb.predict_proba(X_test)\n",
    "\n",
    "pred_prob = pred_prob[:,1]\n",
    "\n",
    "pred = (pred_prob>threshold).astype(int)\n",
    "\n",
    "cm = confusion_matrix(y_test, pred)\n",
    "print (\"Confusion Matrix : \\n\", cm)\n",
    " \n",
    "print('Test accuracy = ', accuracy_score(y_test, pred))"
   ]
  },
  {
   "cell_type": "code",
   "execution_count": 266,
   "metadata": {
    "colab": {
     "base_uri": "https://localhost:8080/"
    },
    "id": "2bv9_35fcYpF",
    "outputId": "773fdf66-7be3-4604-d055-4f1dda0615c6"
   },
   "outputs": [
    {
     "name": "stdout",
     "output_type": "stream",
     "text": [
      "              precision    recall  f1-score   support\n",
      "\n",
      "           0       0.98      0.00      0.00     32458\n",
      "           1       0.22      1.00      0.36      8994\n",
      "\n",
      "    accuracy                           0.22     41452\n",
      "   macro avg       0.60      0.50      0.18     41452\n",
      "weighted avg       0.82      0.22      0.08     41452\n",
      "\n"
     ]
    }
   ],
   "source": [
    "print(classification_report(y_true = y_test, y_pred = pred))"
   ]
  },
  {
   "cell_type": "code",
   "execution_count": 267,
   "metadata": {
    "colab": {
     "base_uri": "https://localhost:8080/"
    },
    "id": "nfprHl1VcfrJ",
    "outputId": "39c52e6c-d4d0-485e-b19b-f41c35b4a8be"
   },
   "outputs": [
    {
     "data": {
      "text/plain": [
       "0.6139613971360234"
      ]
     },
     "execution_count": 267,
     "metadata": {},
     "output_type": "execute_result"
    }
   ],
   "source": [
    "# AUC calculation\n",
    "from sklearn import metrics\n",
    "metrics.roc_auc_score(y_test, pred_prob)"
   ]
  },
  {
   "cell_type": "code",
   "execution_count": 268,
   "metadata": {
    "colab": {
     "base_uri": "https://localhost:8080/",
     "height": 513
    },
    "id": "4KnAPpzFci2b",
    "outputId": "85360e94-8ddd-4226-c72b-53f4b112dfa4"
   },
   "outputs": [
    {
     "data": {
      "image/png": "[encoded data removed]",
      "text/plain": [
       "<Figure size 648x576 with 1 Axes>"
      ]
     },
     "metadata": {
      "needs_background": "light"
     },
     "output_type": "display_data"
    }
   ],
   "source": [
    "fpr, tpr, thresholds = metrics.roc_curve(y_test, pred_prob)\n",
    "roc_auc = metrics.auc(fpr, tpr)\n",
    "plt.figure(figsize = (9,8))\n",
    "plt.title('Receiver Operating Characteristic')\n",
    "plt.plot(fpr, tpr, 'b', label = 'AUC = %0.2f' % roc_auc)\n",
    "plt.legend(loc = 'lower right')\n",
    "plt.plot([0, 1], [0, 1],'r--')\n",
    "plt.xlim([0, 1])\n",
    "plt.ylim([0, 1])\n",
    "plt.ylabel('True Positive Rate')\n",
    "plt.xlabel('False Positive Rate')\n",
    "plt.show()"
   ]
  },
  {
   "cell_type": "code",
   "execution_count": 268,
   "metadata": {
    "id": "j3LlDUqZcm0Y"
   },
   "outputs": [],
   "source": []
  }
 ],
 "metadata": {
  "colab": {
   "collapsed_sections": [],
   "name": "nd2178_CFPB Final Project.ipynb",
   "provenance": []
  },
  "kernelspec": {
   "display_name": "Python 3",
   "language": "python",
   "name": "python3"
  },
  "language_info": {
   "codemirror_mode": {
    "name": "ipython",
    "version": 3
   },
   "file_extension": ".py",
   "mimetype": "text/x-python",
   "name": "python",
   "nbconvert_exporter": "python",
   "pygments_lexer": "ipython3",
   "version": "3.8.8"
  }
 },
 "nbformat": 4,
 "nbformat_minor": 1
}
